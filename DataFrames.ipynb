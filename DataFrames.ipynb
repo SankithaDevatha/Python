{
  "nbformat": 4,
  "nbformat_minor": 0,
  "metadata": {
    "colab": {
      "provenance": [],
      "authorship_tag": "ABX9TyPHoF7wkwi/qGb8RyfAJ0WY",
      "include_colab_link": true
    },
    "kernelspec": {
      "name": "python3",
      "display_name": "Python 3"
    },
    "language_info": {
      "name": "python"
    }
  },
  "cells": [
    {
      "cell_type": "markdown",
      "metadata": {
        "id": "view-in-github",
        "colab_type": "text"
      },
      "source": [
        "<a href=\"https://colab.research.google.com/github/SankithaDevatha/Python/blob/main/DataFrames.ipynb\" target=\"_parent\"><img src=\"https://colab.research.google.com/assets/colab-badge.svg\" alt=\"Open In Colab\"/></a>"
      ]
    },
    {
      "cell_type": "code",
      "execution_count": null,
      "metadata": {
        "colab": {
          "base_uri": "https://localhost:8080/"
        },
        "id": "liBHyQ3P9UBK",
        "outputId": "93df2ae7-35d4-4f08-f14b-0c81118b4086"
      },
      "outputs": [
        {
          "output_type": "stream",
          "name": "stdout",
          "text": [
            "   1       2      3      4\n",
            "0  1       a  1.230   True\n",
            "1  2  colomn  2.365  False\n",
            "2  3    with  6.230  False\n",
            "3  4  string  1.330   True\n"
          ]
        }
      ],
      "source": [
        "#Creating DataFrames\n",
        "\n",
        "import pandas as pd\n",
        "\n",
        "dataframe = pd.DataFrame({\n",
        "    \"1\":[1,2,3,4],\n",
        "    \"2\":['a','colomn','with','string'],\n",
        "    \"3\":[1.23,2.365,6.23,1.33],\n",
        "    \"4\":[True,False,False,True]\n",
        "})\n",
        "\n",
        "print(dataframe)"
      ]
    },
    {
      "cell_type": "code",
      "source": [
        "#Using Dictionary\n",
        "\n",
        "\n",
        "import pandas as pd\n",
        "\n",
        "data = {\n",
        "    \"1\":[1,2,3,4],\n",
        "    \"2\":['a','colomn','with','string'],\n",
        "    \"3\":[1.23,2.365,6.23,1.33],\n",
        "    \"4\":[True,False,False,True]\n",
        "}\n",
        "\n",
        "df = pd.DataFrame(data)\n",
        "\n",
        "print(df)"
      ],
      "metadata": {
        "colab": {
          "base_uri": "https://localhost:8080/"
        },
        "id": "cTj1189SAv_4",
        "outputId": "cf494e4a-4ddb-42d3-97b0-a008dbe2dae3"
      },
      "execution_count": null,
      "outputs": [
        {
          "output_type": "stream",
          "name": "stdout",
          "text": [
            "   1       2      3      4\n",
            "0  1       a  1.230   True\n",
            "1  2  colomn  2.365  False\n",
            "2  3    with  6.230  False\n",
            "3  4  string  1.330   True\n"
          ]
        }
      ]
    },
    {
      "cell_type": "code",
      "source": [
        "#getting info of dataframe\n",
        "\n",
        "import pandas as pd\n",
        "\n",
        "data = {\n",
        "    \"1\":[1,2,3,4],\n",
        "    \"2\":['a','colomn','with','string'],\n",
        "    \"3\":[1.23,2.365,6.23,1.33],\n",
        "    \"4\":[True,False,False,True]\n",
        "}\n",
        "\n",
        "df = pd.DataFrame(data)\n",
        "df.info()"
      ],
      "metadata": {
        "colab": {
          "base_uri": "https://localhost:8080/"
        },
        "id": "uS-S2nGMBnu9",
        "outputId": "9959eeeb-a5a9-4496-c6ae-ec25e2fdbc28"
      },
      "execution_count": null,
      "outputs": [
        {
          "output_type": "stream",
          "name": "stdout",
          "text": [
            "<class 'pandas.core.frame.DataFrame'>\n",
            "RangeIndex: 4 entries, 0 to 3\n",
            "Data columns (total 4 columns):\n",
            " #   Column  Non-Null Count  Dtype  \n",
            "---  ------  --------------  -----  \n",
            " 0   1       4 non-null      int64  \n",
            " 1   2       4 non-null      object \n",
            " 2   3       4 non-null      float64\n",
            " 3   4       4 non-null      bool   \n",
            "dtypes: bool(1), float64(1), int64(1), object(1)\n",
            "memory usage: 228.0+ bytes\n"
          ]
        }
      ]
    },
    {
      "cell_type": "code",
      "source": [],
      "metadata": {
        "id": "4iZIgxV1B76f"
      },
      "execution_count": null,
      "outputs": []
    }
  ]
}