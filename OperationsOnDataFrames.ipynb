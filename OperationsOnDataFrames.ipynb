{
  "nbformat": 4,
  "nbformat_minor": 0,
  "metadata": {
    "colab": {
      "provenance": [],
      "authorship_tag": "ABX9TyPUT8MwwFANa15r0fNovcqQ",
      "include_colab_link": true
    },
    "kernelspec": {
      "name": "python3",
      "display_name": "Python 3"
    },
    "language_info": {
      "name": "python"
    }
  },
  "cells": [
    {
      "cell_type": "markdown",
      "metadata": {
        "id": "view-in-github",
        "colab_type": "text"
      },
      "source": [
        "<a href=\"https://colab.research.google.com/github/SankithaDevatha/Python/blob/main/OperationsOnDataFrames.ipynb\" target=\"_parent\"><img src=\"https://colab.research.google.com/assets/colab-badge.svg\" alt=\"Open In Colab\"/></a>"
      ]
    },
    {
      "cell_type": "code",
      "execution_count": 2,
      "metadata": {
        "colab": {
          "base_uri": "https://localhost:8080/"
        },
        "id": "KR13GcyS1tHC",
        "outputId": "77be5db9-71a9-4eb5-c8fc-f065bffc0198"
      },
      "outputs": [
        {
          "output_type": "stream",
          "name": "stdout",
          "text": [
            "     Name  Age Gender\n",
            "0    Abdc   22      F\n",
            "1   aksjd   23      M\n",
            "2    ajds   78      M\n",
            "3  ajhsdg   54      F\n",
            "\n",
            "\n",
            "     Name  Age Gender\n",
            "2    ajds   78      M\n",
            "3  ajhsdg   54      F\n"
          ]
        }
      ],
      "source": [
        "#Filtering data\n",
        "\n",
        "import pandas as pd\n",
        "\n",
        "data = {\n",
        "    'Name': ['Abdc','aksjd','ajds','ajhsdg'],\n",
        "    'Age': [22,23,78,54],\n",
        "    'Gender':['F','M','M','F']\n",
        "}\n",
        "\n",
        "dataframe = pd.DataFrame(data)\n",
        "print(dataframe)\n",
        "#Filtering rows for age > 23\n",
        "print('\\n')\n",
        "filtered_df = dataframe[dataframe['Age']>23]\n",
        "print(filtered_df)\n"
      ]
    },
    {
      "cell_type": "code",
      "source": [
        "#adding colomns\n",
        "\n",
        "import pandas as pd\n",
        "\n",
        "data = {\n",
        "    'Name': ['Abdc','aksjd','ajds','ajhsdg'],\n",
        "    'Age': [22,23,78,54],\n",
        "    'Gender':['F','M','M','F']\n",
        "}\n",
        "dataframe = pd.DataFrame(data)\n",
        "print(dataframe)\n",
        "print('\\n')\n",
        "\n",
        "dataframe['City'] = ['Bangalore','Mysore','Vizag','Delhi']\n",
        "print(dataframe)"
      ],
      "metadata": {
        "colab": {
          "base_uri": "https://localhost:8080/"
        },
        "id": "WjnmRluu3ZkP",
        "outputId": "d8b31337-b80b-440b-e22d-f5b8fa02fdff"
      },
      "execution_count": 3,
      "outputs": [
        {
          "output_type": "stream",
          "name": "stdout",
          "text": [
            "     Name  Age Gender\n",
            "0    Abdc   22      F\n",
            "1   aksjd   23      M\n",
            "2    ajds   78      M\n",
            "3  ajhsdg   54      F\n",
            "\n",
            "\n",
            "     Name  Age Gender       City\n",
            "0    Abdc   22      F  Bangalore\n",
            "1   aksjd   23      M     Mysore\n",
            "2    ajds   78      M      Vizag\n",
            "3  ajhsdg   54      F      Delhi\n"
          ]
        }
      ]
    },
    {
      "cell_type": "code",
      "source": [
        "#Aggregation and Grouping\n",
        "import pandas as pd\n",
        "\n",
        "data = {\n",
        "    'Name': ['Abdc','aksjd','ajds','ajhsdg'],\n",
        "    'Age': [22,23,78,54],\n",
        "    'Gender':['F','M','M','F']\n",
        "}\n",
        "dataframe = pd.DataFrame(data)\n",
        "print(dataframe)\n",
        "\n",
        "grouped_df = dataframe.groupby('Gender').agg({'Age':'sum'})\n",
        "print(grouped_df)\n"
      ],
      "metadata": {
        "colab": {
          "base_uri": "https://localhost:8080/"
        },
        "id": "AbUh2THv38PE",
        "outputId": "bce189f9-f6c3-4ab1-c682-1180c8ffb2f0"
      },
      "execution_count": 5,
      "outputs": [
        {
          "output_type": "stream",
          "name": "stdout",
          "text": [
            "     Name  Age Gender\n",
            "0    Abdc   22      F\n",
            "1   aksjd   23      M\n",
            "2    ajds   78      M\n",
            "3  ajhsdg   54      F\n",
            "        Age\n",
            "Gender     \n",
            "F        76\n",
            "M       101\n"
          ]
        }
      ]
    },
    {
      "cell_type": "code",
      "source": [
        "#sorting\n",
        "\n",
        "import pandas as pd\n",
        "\n",
        "data = {\n",
        "    'Name': ['Abdc','aksjd','ajds','ajhsdg'],\n",
        "    'Age': [22,23,78,54],\n",
        "    'Gender':['F','M','M','F']\n",
        "}\n",
        "dataframe = pd.DataFrame(data)\n",
        "print(dataframe)\n",
        "\n",
        "sorted_df = dataframe.sort_values(by = 'Gender')\n",
        "print(sorted_df)"
      ],
      "metadata": {
        "colab": {
          "base_uri": "https://localhost:8080/"
        },
        "id": "2AH0Q15T9NsT",
        "outputId": "b187123a-fb0a-492c-a53d-623828737762"
      },
      "execution_count": 7,
      "outputs": [
        {
          "output_type": "stream",
          "name": "stdout",
          "text": [
            "     Name  Age Gender\n",
            "0    Abdc   22      F\n",
            "1   aksjd   23      M\n",
            "2    ajds   78      M\n",
            "3  ajhsdg   54      F\n",
            "     Name  Age Gender\n",
            "0    Abdc   22      F\n",
            "3  ajhsdg   54      F\n",
            "1   aksjd   23      M\n",
            "2    ajds   78      M\n"
          ]
        }
      ]
    },
    {
      "cell_type": "code",
      "source": [
        "#data transformation\n",
        "import pandas as pd\n",
        "\n",
        "data = {\n",
        "    'Name': ['Abdc','aksjd','ajds','ajhsdg'],\n",
        "    'Age': [22,23,78,54],\n",
        "    'Gender':['F','M','M','F']\n",
        "}\n",
        "dataframe = pd.DataFrame(data)\n",
        "print(dataframe)\n",
        "\n",
        "dataframe['Age'] = dataframe['Age'].apply(lambda y:y-2)\n",
        "print(dataframe)"
      ],
      "metadata": {
        "colab": {
          "base_uri": "https://localhost:8080/"
        },
        "id": "uBjKnvn5-omN",
        "outputId": "46250d05-e91f-4197-a339-38d319ac3b56"
      },
      "execution_count": 8,
      "outputs": [
        {
          "output_type": "stream",
          "name": "stdout",
          "text": [
            "     Name  Age Gender\n",
            "0    Abdc   22      F\n",
            "1   aksjd   23      M\n",
            "2    ajds   78      M\n",
            "3  ajhsdg   54      F\n",
            "     Name  Age Gender\n",
            "0    Abdc   20      F\n",
            "1   aksjd   21      M\n",
            "2    ajds   76      M\n",
            "3  ajhsdg   52      F\n"
          ]
        }
      ]
    },
    {
      "cell_type": "code",
      "source": [
        "#reshaping the data\n",
        "\n",
        "import pandas as pd\n",
        "\n",
        "data = {\n",
        "    'Name': ['Abdc','aksjd','ajds','ajhsdg'],\n",
        "    'Age': [22,23,78,54],\n",
        "    'Gender':['F','M','M','F']\n",
        "}\n",
        "dataframe = pd.DataFrame(data)\n",
        "print(dataframe)\n",
        "\n",
        "pivot_data = dataframe.pivot(index = 'Age',columns = 'Gender', values = 'Name')\n",
        "print(pivot_data)"
      ],
      "metadata": {
        "colab": {
          "base_uri": "https://localhost:8080/"
        },
        "id": "_6vuUjx1_5Xv",
        "outputId": "064b4d50-b97a-40dd-f083-5d92b679c4d2"
      },
      "execution_count": 10,
      "outputs": [
        {
          "output_type": "stream",
          "name": "stdout",
          "text": [
            "     Name  Age Gender\n",
            "0    Abdc   22      F\n",
            "1   aksjd   23      M\n",
            "2    ajds   78      M\n",
            "3  ajhsdg   54      F\n",
            "Gender       F      M\n",
            "Age                  \n",
            "22        Abdc    NaN\n",
            "23         NaN  aksjd\n",
            "54      ajhsdg    NaN\n",
            "78         NaN   ajds\n"
          ]
        }
      ]
    },
    {
      "cell_type": "code",
      "source": [
        "#merging\n",
        "\n",
        "data1 = {\n",
        "    'Name': ['Abdc','aksjd','ajds','ajhsdg'],\n",
        "    'Age': [22,23,78,54],\n",
        "    'City':['F','M','M','F']\n",
        "}\n",
        "dataframe1 = pd.DataFrame(data1)\n",
        "print(dataframe1)\n",
        "\n",
        "data2 = {\n",
        "    'Name': ['ajhsdg','nabsdx','aksjd','nsdfkj'],\n",
        "    'Age': [13,12,44,59],\n",
        "    'Gender':['M','F','F','F']\n",
        "}\n",
        "dataframe2 = pd.DataFrame(data2)\n",
        "print(dataframe2)\n",
        "\n",
        "#Atleast one column in the dataframes must be common\n",
        "merged_df = pd.merge(dataframe1,dataframe2,on = 'Name')\n",
        "print(merged_df)"
      ],
      "metadata": {
        "colab": {
          "base_uri": "https://localhost:8080/"
        },
        "id": "6JHjsqo3BmPP",
        "outputId": "87b7ac02-9326-4c23-d481-719c3f8a777e"
      },
      "execution_count": 14,
      "outputs": [
        {
          "output_type": "stream",
          "name": "stdout",
          "text": [
            "     Name  Age City\n",
            "0    Abdc   22    F\n",
            "1   aksjd   23    M\n",
            "2    ajds   78    M\n",
            "3  ajhsdg   54    F\n",
            "     Name  Age Gender\n",
            "0  ajhsdg   13      M\n",
            "1  nabsdx   12      F\n",
            "2   aksjd   44      F\n",
            "3  nsdfkj   59      F\n",
            "     Name  Age_x City  Age_y Gender\n",
            "0   aksjd     23    M     44      F\n",
            "1  ajhsdg     54    F     13      M\n"
          ]
        }
      ]
    },
    {
      "cell_type": "code",
      "source": [
        "#concatination\n",
        "\n",
        "data1 = {\n",
        "    'Name': ['Abdc','aksjd','ajds','ajhsdg'],\n",
        "    'Age': [22,23,78,54],\n",
        "    'Gender':['F','M','M','F']\n",
        "}\n",
        "dataframe1 = pd.DataFrame(data1)\n",
        "print(dataframe1)\n",
        "\n",
        "data2 = {\n",
        "    'Title': ['ajhsdg','nabsdx','aksjd','nsdfkj'],\n",
        "    'DOB': [13,12,44,59],\n",
        "    'City':['M','F','F','F']\n",
        "}\n",
        "dataframe2 = pd.DataFrame(data2)\n",
        "print(dataframe2)\n",
        "\n",
        "print(pd.concat([dataframe1,dataframe2]))"
      ],
      "metadata": {
        "colab": {
          "base_uri": "https://localhost:8080/"
        },
        "id": "9m0fz1aTDV1T",
        "outputId": "8858584e-b4c0-4675-b77e-7cb01ffbc4d4"
      },
      "execution_count": 17,
      "outputs": [
        {
          "output_type": "stream",
          "name": "stdout",
          "text": [
            "     Name  Age Gender\n",
            "0    Abdc   22      F\n",
            "1   aksjd   23      M\n",
            "2    ajds   78      M\n",
            "3  ajhsdg   54      F\n",
            "    Title  DOB City\n",
            "0  ajhsdg   13    M\n",
            "1  nabsdx   12    F\n",
            "2   aksjd   44    F\n",
            "3  nsdfkj   59    F\n",
            "     Name   Age Gender   Title   DOB City\n",
            "0    Abdc  22.0      F     NaN   NaN  NaN\n",
            "1   aksjd  23.0      M     NaN   NaN  NaN\n",
            "2    ajds  78.0      M     NaN   NaN  NaN\n",
            "3  ajhsdg  54.0      F     NaN   NaN  NaN\n",
            "0     NaN   NaN    NaN  ajhsdg  13.0    M\n",
            "1     NaN   NaN    NaN  nabsdx  12.0    F\n",
            "2     NaN   NaN    NaN   aksjd  44.0    F\n",
            "3     NaN   NaN    NaN  nsdfkj  59.0    F\n"
          ]
        }
      ]
    },
    {
      "cell_type": "code",
      "source": [
        "#concatination of series\n",
        "\n",
        "s1 = pd.Series(['jaw','21','asa'],name= 's1')\n",
        "s2 = pd.Series(['asd','asad','sdcfsced'],name='s2')\n",
        "print(pd.concat([s1,s1]))"
      ],
      "metadata": {
        "colab": {
          "base_uri": "https://localhost:8080/"
        },
        "id": "IE6rFvXCFghg",
        "outputId": "b81e26e2-691f-49de-c1a9-5657b7dd64ea"
      },
      "execution_count": 22,
      "outputs": [
        {
          "output_type": "stream",
          "name": "stdout",
          "text": [
            "0    jaw\n",
            "1     21\n",
            "2    asa\n",
            "0    jaw\n",
            "1     21\n",
            "2    asa\n",
            "Name: s1, dtype: object\n"
          ]
        }
      ]
    },
    {
      "cell_type": "code",
      "source": [
        "#2 series cannot be merged\n",
        "\n",
        "s1 = pd.Series(['jaw','21','asa'],index = 'somthing')\n",
        "s2 = pd.Series(['asd','asad','sdcfsced'],index = 'something')\n",
        "print(pd.merge(s1,s2,on = 'something'))"
      ],
      "metadata": {
        "colab": {
          "base_uri": "https://localhost:8080/",
          "height": 366
        },
        "id": "cttaFj79IAkk",
        "outputId": "46a3df84-9098-4960-9799-bac7606dc05d"
      },
      "execution_count": 23,
      "outputs": [
        {
          "output_type": "error",
          "ename": "TypeError",
          "evalue": "ignored",
          "traceback": [
            "\u001b[0;31m---------------------------------------------------------------------------\u001b[0m",
            "\u001b[0;31mTypeError\u001b[0m                                 Traceback (most recent call last)",
            "\u001b[0;32m<ipython-input-23-35af3d095437>\u001b[0m in \u001b[0;36m<cell line: 1>\u001b[0;34m()\u001b[0m\n\u001b[0;32m----> 1\u001b[0;31m \u001b[0ms1\u001b[0m \u001b[0;34m=\u001b[0m \u001b[0mpd\u001b[0m\u001b[0;34m.\u001b[0m\u001b[0mSeries\u001b[0m\u001b[0;34m(\u001b[0m\u001b[0;34m[\u001b[0m\u001b[0;34m'jaw'\u001b[0m\u001b[0;34m,\u001b[0m\u001b[0;34m'21'\u001b[0m\u001b[0;34m,\u001b[0m\u001b[0;34m'asa'\u001b[0m\u001b[0;34m]\u001b[0m\u001b[0;34m,\u001b[0m\u001b[0mindex\u001b[0m \u001b[0;34m=\u001b[0m \u001b[0;34m'somthing'\u001b[0m\u001b[0;34m)\u001b[0m\u001b[0;34m\u001b[0m\u001b[0;34m\u001b[0m\u001b[0m\n\u001b[0m\u001b[1;32m      2\u001b[0m \u001b[0ms2\u001b[0m \u001b[0;34m=\u001b[0m \u001b[0mpd\u001b[0m\u001b[0;34m.\u001b[0m\u001b[0mSeries\u001b[0m\u001b[0;34m(\u001b[0m\u001b[0;34m[\u001b[0m\u001b[0;34m'asd'\u001b[0m\u001b[0;34m,\u001b[0m\u001b[0;34m'asad'\u001b[0m\u001b[0;34m,\u001b[0m\u001b[0;34m'sdcfsced'\u001b[0m\u001b[0;34m]\u001b[0m\u001b[0;34m,\u001b[0m\u001b[0mindex\u001b[0m \u001b[0;34m=\u001b[0m \u001b[0;34m'something'\u001b[0m\u001b[0;34m)\u001b[0m\u001b[0;34m\u001b[0m\u001b[0;34m\u001b[0m\u001b[0m\n\u001b[1;32m      3\u001b[0m \u001b[0mprint\u001b[0m\u001b[0;34m(\u001b[0m\u001b[0mpd\u001b[0m\u001b[0;34m.\u001b[0m\u001b[0mmerge\u001b[0m\u001b[0;34m(\u001b[0m\u001b[0ms1\u001b[0m\u001b[0;34m,\u001b[0m\u001b[0ms2\u001b[0m\u001b[0;34m,\u001b[0m\u001b[0mon\u001b[0m \u001b[0;34m=\u001b[0m \u001b[0;34m'something'\u001b[0m\u001b[0;34m)\u001b[0m\u001b[0;34m)\u001b[0m\u001b[0;34m\u001b[0m\u001b[0;34m\u001b[0m\u001b[0m\n",
            "\u001b[0;32m/usr/local/lib/python3.10/dist-packages/pandas/core/series.py\u001b[0m in \u001b[0;36m__init__\u001b[0;34m(self, data, index, dtype, name, copy, fastpath)\u001b[0m\n\u001b[1;32m    397\u001b[0m \u001b[0;34m\u001b[0m\u001b[0m\n\u001b[1;32m    398\u001b[0m             \u001b[0;32mif\u001b[0m \u001b[0mindex\u001b[0m \u001b[0;32mis\u001b[0m \u001b[0;32mnot\u001b[0m \u001b[0;32mNone\u001b[0m\u001b[0;34m:\u001b[0m\u001b[0;34m\u001b[0m\u001b[0;34m\u001b[0m\u001b[0m\n\u001b[0;32m--> 399\u001b[0;31m                 \u001b[0mindex\u001b[0m \u001b[0;34m=\u001b[0m \u001b[0mensure_index\u001b[0m\u001b[0;34m(\u001b[0m\u001b[0mindex\u001b[0m\u001b[0;34m)\u001b[0m\u001b[0;34m\u001b[0m\u001b[0;34m\u001b[0m\u001b[0m\n\u001b[0m\u001b[1;32m    400\u001b[0m \u001b[0;34m\u001b[0m\u001b[0m\n\u001b[1;32m    401\u001b[0m             \u001b[0;32mif\u001b[0m \u001b[0mdata\u001b[0m \u001b[0;32mis\u001b[0m \u001b[0;32mNone\u001b[0m\u001b[0;34m:\u001b[0m\u001b[0;34m\u001b[0m\u001b[0;34m\u001b[0m\u001b[0m\n",
            "\u001b[0;32m/usr/local/lib/python3.10/dist-packages/pandas/core/indexes/base.py\u001b[0m in \u001b[0;36mensure_index\u001b[0;34m(index_like, copy)\u001b[0m\n\u001b[1;32m   7331\u001b[0m             \u001b[0;32mreturn\u001b[0m \u001b[0mIndex\u001b[0m\u001b[0;34m.\u001b[0m\u001b[0m_with_infer\u001b[0m\u001b[0;34m(\u001b[0m\u001b[0mindex_like\u001b[0m\u001b[0;34m,\u001b[0m \u001b[0mcopy\u001b[0m\u001b[0;34m=\u001b[0m\u001b[0mcopy\u001b[0m\u001b[0;34m,\u001b[0m \u001b[0mtupleize_cols\u001b[0m\u001b[0;34m=\u001b[0m\u001b[0;32mFalse\u001b[0m\u001b[0;34m)\u001b[0m\u001b[0;34m\u001b[0m\u001b[0;34m\u001b[0m\u001b[0m\n\u001b[1;32m   7332\u001b[0m     \u001b[0;32melse\u001b[0m\u001b[0;34m:\u001b[0m\u001b[0;34m\u001b[0m\u001b[0;34m\u001b[0m\u001b[0m\n\u001b[0;32m-> 7333\u001b[0;31m         \u001b[0;32mreturn\u001b[0m \u001b[0mIndex\u001b[0m\u001b[0;34m.\u001b[0m\u001b[0m_with_infer\u001b[0m\u001b[0;34m(\u001b[0m\u001b[0mindex_like\u001b[0m\u001b[0;34m,\u001b[0m \u001b[0mcopy\u001b[0m\u001b[0;34m=\u001b[0m\u001b[0mcopy\u001b[0m\u001b[0;34m)\u001b[0m\u001b[0;34m\u001b[0m\u001b[0;34m\u001b[0m\u001b[0m\n\u001b[0m\u001b[1;32m   7334\u001b[0m \u001b[0;34m\u001b[0m\u001b[0m\n\u001b[1;32m   7335\u001b[0m \u001b[0;34m\u001b[0m\u001b[0m\n",
            "\u001b[0;32m/usr/local/lib/python3.10/dist-packages/pandas/core/indexes/base.py\u001b[0m in \u001b[0;36m_with_infer\u001b[0;34m(cls, *args, **kwargs)\u001b[0m\n\u001b[1;32m    714\u001b[0m         \u001b[0;32mwith\u001b[0m \u001b[0mwarnings\u001b[0m\u001b[0;34m.\u001b[0m\u001b[0mcatch_warnings\u001b[0m\u001b[0;34m(\u001b[0m\u001b[0;34m)\u001b[0m\u001b[0;34m:\u001b[0m\u001b[0;34m\u001b[0m\u001b[0;34m\u001b[0m\u001b[0m\n\u001b[1;32m    715\u001b[0m             \u001b[0mwarnings\u001b[0m\u001b[0;34m.\u001b[0m\u001b[0mfilterwarnings\u001b[0m\u001b[0;34m(\u001b[0m\u001b[0;34m\"ignore\"\u001b[0m\u001b[0;34m,\u001b[0m \u001b[0;34m\".*the Index constructor\"\u001b[0m\u001b[0;34m,\u001b[0m \u001b[0mFutureWarning\u001b[0m\u001b[0;34m)\u001b[0m\u001b[0;34m\u001b[0m\u001b[0;34m\u001b[0m\u001b[0m\n\u001b[0;32m--> 716\u001b[0;31m             \u001b[0mresult\u001b[0m \u001b[0;34m=\u001b[0m \u001b[0mcls\u001b[0m\u001b[0;34m(\u001b[0m\u001b[0;34m*\u001b[0m\u001b[0margs\u001b[0m\u001b[0;34m,\u001b[0m \u001b[0;34m**\u001b[0m\u001b[0mkwargs\u001b[0m\u001b[0;34m)\u001b[0m\u001b[0;34m\u001b[0m\u001b[0;34m\u001b[0m\u001b[0m\n\u001b[0m\u001b[1;32m    717\u001b[0m \u001b[0;34m\u001b[0m\u001b[0m\n\u001b[1;32m    718\u001b[0m         \u001b[0;32mif\u001b[0m \u001b[0mresult\u001b[0m\u001b[0;34m.\u001b[0m\u001b[0mdtype\u001b[0m \u001b[0;34m==\u001b[0m \u001b[0m_dtype_obj\u001b[0m \u001b[0;32mand\u001b[0m \u001b[0;32mnot\u001b[0m \u001b[0mresult\u001b[0m\u001b[0;34m.\u001b[0m\u001b[0m_is_multi\u001b[0m\u001b[0;34m:\u001b[0m\u001b[0;34m\u001b[0m\u001b[0;34m\u001b[0m\u001b[0m\n",
            "\u001b[0;32m/usr/local/lib/python3.10/dist-packages/pandas/core/indexes/base.py\u001b[0m in \u001b[0;36m__new__\u001b[0;34m(cls, data, dtype, copy, name, tupleize_cols, **kwargs)\u001b[0m\n\u001b[1;32m    543\u001b[0m \u001b[0;34m\u001b[0m\u001b[0m\n\u001b[1;32m    544\u001b[0m         \u001b[0;32melif\u001b[0m \u001b[0mis_scalar\u001b[0m\u001b[0;34m(\u001b[0m\u001b[0mdata\u001b[0m\u001b[0;34m)\u001b[0m\u001b[0;34m:\u001b[0m\u001b[0;34m\u001b[0m\u001b[0;34m\u001b[0m\u001b[0m\n\u001b[0;32m--> 545\u001b[0;31m             \u001b[0;32mraise\u001b[0m \u001b[0mcls\u001b[0m\u001b[0;34m.\u001b[0m\u001b[0m_scalar_data_error\u001b[0m\u001b[0;34m(\u001b[0m\u001b[0mdata\u001b[0m\u001b[0;34m)\u001b[0m\u001b[0;34m\u001b[0m\u001b[0;34m\u001b[0m\u001b[0m\n\u001b[0m\u001b[1;32m    546\u001b[0m         \u001b[0;32melif\u001b[0m \u001b[0mhasattr\u001b[0m\u001b[0;34m(\u001b[0m\u001b[0mdata\u001b[0m\u001b[0;34m,\u001b[0m \u001b[0;34m\"__array__\"\u001b[0m\u001b[0;34m)\u001b[0m\u001b[0;34m:\u001b[0m\u001b[0;34m\u001b[0m\u001b[0;34m\u001b[0m\u001b[0m\n\u001b[1;32m    547\u001b[0m             \u001b[0;32mreturn\u001b[0m \u001b[0mIndex\u001b[0m\u001b[0;34m(\u001b[0m\u001b[0mnp\u001b[0m\u001b[0;34m.\u001b[0m\u001b[0masarray\u001b[0m\u001b[0;34m(\u001b[0m\u001b[0mdata\u001b[0m\u001b[0;34m)\u001b[0m\u001b[0;34m,\u001b[0m \u001b[0mdtype\u001b[0m\u001b[0;34m=\u001b[0m\u001b[0mdtype\u001b[0m\u001b[0;34m,\u001b[0m \u001b[0mcopy\u001b[0m\u001b[0;34m=\u001b[0m\u001b[0mcopy\u001b[0m\u001b[0;34m,\u001b[0m \u001b[0mname\u001b[0m\u001b[0;34m=\u001b[0m\u001b[0mname\u001b[0m\u001b[0;34m,\u001b[0m \u001b[0;34m**\u001b[0m\u001b[0mkwargs\u001b[0m\u001b[0;34m)\u001b[0m\u001b[0;34m\u001b[0m\u001b[0;34m\u001b[0m\u001b[0m\n",
            "\u001b[0;31mTypeError\u001b[0m: Index(...) must be called with a collection of some kind, 'somthing' was passed"
          ]
        }
      ]
    },
    {
      "cell_type": "code",
      "source": [
        "#handling missing data\n",
        "import pandas as pd\n",
        "import numpy as np\n",
        "\n",
        "data = {\n",
        "    'Name': ['Abdc',np.NaN,np.NaN,'ajhsdg'],\n",
        "    'Age': [22,np.NaN,78,54],\n",
        "    'Gender':[np.NaN,np.NaN,'F',np.NaN]\n",
        "}\n",
        "dataframe = pd.DataFrame(data)\n",
        "print(dataframe)\n",
        "print('\\n')\n",
        "print(dataframe.isnull())#checks each cell if it is null\n",
        "\n",
        "print('\\n')\n",
        "print(dataframe.isnull().sum())#gives sum of cells that are null\n",
        "\n",
        "print('\\n')\n",
        "dataframe = dataframe.dropna(how='all')#drops the rows which is completely null\n",
        "print(dataframe)\n",
        "\n",
        "print('\\n')\n",
        "dataframe = dataframe.dropna()#drops the rows that contains null\n",
        "print(dataframe)\n"
      ],
      "metadata": {
        "colab": {
          "base_uri": "https://localhost:8080/"
        },
        "id": "DkUsGNX9IW4h",
        "outputId": "1ed7c466-8a1d-42b5-cc35-bb30be1d68d7"
      },
      "execution_count": 41,
      "outputs": [
        {
          "output_type": "stream",
          "name": "stdout",
          "text": [
            "     Name   Age Gender\n",
            "0    Abdc  22.0    NaN\n",
            "1     NaN   NaN    NaN\n",
            "2     NaN  78.0      F\n",
            "3  ajhsdg  54.0    NaN\n",
            "\n",
            "\n",
            "    Name    Age  Gender\n",
            "0  False  False    True\n",
            "1   True   True    True\n",
            "2   True  False   False\n",
            "3  False  False    True\n",
            "\n",
            "\n",
            "Name      2\n",
            "Age       1\n",
            "Gender    3\n",
            "dtype: int64\n",
            "\n",
            "\n",
            "     Name   Age Gender\n",
            "0    Abdc  22.0    NaN\n",
            "2     NaN  78.0      F\n",
            "3  ajhsdg  54.0    NaN\n",
            "\n",
            "\n",
            "Empty DataFrame\n",
            "Columns: [Name, Age, Gender]\n",
            "Index: []\n"
          ]
        }
      ]
    },
    {
      "cell_type": "code",
      "source": [
        "#Filling the null values\n",
        "\n",
        "import pandas as pd\n",
        "import numpy as np\n",
        "\n",
        "data = {\n",
        "    'Name': ['Abdc',np.NaN,np.NaN,'ajhsdg'],\n",
        "    'Age': [22,np.NaN,78,54],\n",
        "    'Gender':[np.NaN,np.NaN,'F',np.NaN]\n",
        "}\n",
        "dataframe = pd.DataFrame(data)\n",
        "print(dataframe)\n",
        "\n",
        "print('\\n')\n",
        "dataframe = dataframe.fillna({'Name':'Someone','Age':24,'Gender':'NA'}) #fill all null values as defined inside\n",
        "print(dataframe)\n",
        "\n",
        "print('\\n')\n",
        "dataframe = dataframe.fillna('NA') #fill all null values with NA\n",
        "print(dataframe)\n",
        "\n",
        "\n"
      ],
      "metadata": {
        "colab": {
          "base_uri": "https://localhost:8080/"
        },
        "id": "Y3pTScwLN7TO",
        "outputId": "8fdef31f-b4c3-4a87-8e68-62204f271c39"
      },
      "execution_count": 44,
      "outputs": [
        {
          "output_type": "stream",
          "name": "stdout",
          "text": [
            "     Name   Age Gender\n",
            "0    Abdc  22.0    NaN\n",
            "1     NaN   NaN    NaN\n",
            "2     NaN  78.0      F\n",
            "3  ajhsdg  54.0    NaN\n",
            "\n",
            "\n",
            "     Name   Age Gender\n",
            "0    Abdc  22.0     NA\n",
            "1      NA    NA     NA\n",
            "2      NA  78.0      F\n",
            "3  ajhsdg  54.0     NA\n"
          ]
        }
      ]
    }
  ]
}