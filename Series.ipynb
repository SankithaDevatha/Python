{
  "nbformat": 4,
  "nbformat_minor": 0,
  "metadata": {
    "colab": {
      "provenance": [],
      "authorship_tag": "ABX9TyO4nJ3NuBc0yAclZ9+4hA0x",
      "include_colab_link": true
    },
    "kernelspec": {
      "name": "python3",
      "display_name": "Python 3"
    },
    "language_info": {
      "name": "python"
    }
  },
  "cells": [
    {
      "cell_type": "markdown",
      "metadata": {
        "id": "view-in-github",
        "colab_type": "text"
      },
      "source": [
        "<a href=\"https://colab.research.google.com/github/SankithaDevatha/Python/blob/main/Series.ipynb\" target=\"_parent\"><img src=\"https://colab.research.google.com/assets/colab-badge.svg\" alt=\"Open In Colab\"/></a>"
      ]
    },
    {
      "cell_type": "code",
      "source": [
        "#creating series\n",
        "\n",
        "import pandas as pd\n",
        "\n",
        "series = pd.Series([1,2,3,4])\n",
        "print(series)"
      ],
      "metadata": {
        "colab": {
          "base_uri": "https://localhost:8080/"
        },
        "id": "4iZIgxV1B76f",
        "outputId": "e96f946a-07a4-4fed-ad05-33b5ab563dc0"
      },
      "execution_count": 6,
      "outputs": [
        {
          "output_type": "stream",
          "name": "stdout",
          "text": [
            "0    1\n",
            "1    2\n",
            "2    3\n",
            "3    4\n",
            "dtype: int64\n"
          ]
        }
      ]
    },
    {
      "cell_type": "code",
      "source": [
        "#printing index and values\n",
        "\n",
        "import pandas as pd\n",
        "\n",
        "series = pd.Series([1,2,3,4])\n",
        "print(series)\n",
        "print(series.values)\n",
        "print(series.index.values)"
      ],
      "metadata": {
        "colab": {
          "base_uri": "https://localhost:8080/"
        },
        "id": "QGX5Qiq5KLAd",
        "outputId": "3c8eb44e-60fd-4086-b810-024824823681"
      },
      "execution_count": 10,
      "outputs": [
        {
          "output_type": "stream",
          "name": "stdout",
          "text": [
            "0    1\n",
            "1    2\n",
            "2    3\n",
            "3    4\n",
            "dtype: int64\n",
            "[1 2 3 4]\n",
            "[0 1 2 3]\n"
          ]
        }
      ]
    },
    {
      "cell_type": "code",
      "source": [
        "#assigning index names\n",
        "\n",
        "import pandas as pd\n",
        "\n",
        "srs = pd.Series([11,123.324,'a'], index = ['India','China','USA'])\n",
        "\n",
        "srs.name='Something' #name of series\n",
        "srs.index.name = 'Country'#colomn name of index\n",
        "print(srs)"
      ],
      "metadata": {
        "colab": {
          "base_uri": "https://localhost:8080/"
        },
        "id": "QGWfRWE7LkX4",
        "outputId": "48c9c697-2969-4ddc-b154-692eb7ad53cd"
      },
      "execution_count": 14,
      "outputs": [
        {
          "output_type": "stream",
          "name": "stdout",
          "text": [
            "Country\n",
            "India         11\n",
            "China    123.324\n",
            "USA            a\n",
            "Name: Something, dtype: object\n"
          ]
        }
      ]
    },
    {
      "cell_type": "code",
      "source": [
        "#dropping entries in series\n",
        "import pandas as pd\n",
        "\n",
        "srs = pd.Series([11,123.324,'a'], index = ['India','China','USA'])\n",
        "\n",
        "srs.name='Something' #name of series\n",
        "srs.index.name = 'Country'#colomn name of index\n",
        "print(srs)\n",
        "srs = srs.drop('USA')\n",
        "print(srs)\n"
      ],
      "metadata": {
        "colab": {
          "base_uri": "https://localhost:8080/"
        },
        "id": "CT2rLCGUOB7Z",
        "outputId": "ef76a7e3-4f87-40bb-fd30-bc252ca9b433"
      },
      "execution_count": 18,
      "outputs": [
        {
          "output_type": "stream",
          "name": "stdout",
          "text": [
            "Country\n",
            "India         11\n",
            "China    123.324\n",
            "USA            a\n",
            "Name: Something, dtype: object\n",
            "Country\n",
            "India         11\n",
            "China    123.324\n",
            "Name: Something, dtype: object\n"
          ]
        }
      ]
    },
    {
      "cell_type": "code",
      "source": [
        "#accessing values using index names\n",
        "\n",
        "\n",
        "import pandas as pd\n",
        "\n",
        "srs = pd.Series([11,123.324,'a'], index = ['India','China','USA'])\n",
        "\n",
        "srs.name='Something' #name of series\n",
        "srs.index.name = 'Country'#colomn name of index\n",
        "print(srs['India'])\n",
        "print(srs['USA'])"
      ],
      "metadata": {
        "colab": {
          "base_uri": "https://localhost:8080/"
        },
        "id": "1_fVJp2BNK_u",
        "outputId": "7c1f02a0-8dad-4461-c154-9f436fa5167f"
      },
      "execution_count": 17,
      "outputs": [
        {
          "output_type": "stream",
          "name": "stdout",
          "text": [
            "11\n",
            "a\n"
          ]
        }
      ]
    }
  ]
}